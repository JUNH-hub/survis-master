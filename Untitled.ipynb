{
 "cells": [
  {
   "cell_type": "code",
   "execution_count": 4,
   "id": "fabd093e-209b-45f8-bf95-b31fa1cf7c2f",
   "metadata": {},
   "outputs": [
    {
     "name": "stderr",
     "output_type": "stream",
     "text": [
      "Traceback (most recent call last):\n",
      "  File \"C:\\Users\\Zhang\\survis-master\\update_data.py\", line 140, in <module>\n",
      "    currentBibTime = os.stat(BIB_FILE).st_mtime\n",
      "                     ^^^^^^^^^^^^^^^^^\n",
      "FileNotFoundError: [WinError 2] 系统找不到指定的文件。: 'C:\\\\Users\\\\Zhang\\\\survis-master\\\\bib/references.bib'\n"
     ]
    }
   ],
   "source": [
    "\n",
    "\n",
    "# 执行监听脚本\n",
    "!python update_data.py once\n",
    "\n",
    "\n"
   ]
  },
  {
   "cell_type": "code",
   "execution_count": null,
   "id": "c5850268-b0f1-42f2-8cbe-95de74f57ecd",
   "metadata": {},
   "outputs": [],
   "source": []
  }
 ],
 "metadata": {
  "kernelspec": {
   "display_name": "Python 3 (ipykernel)",
   "language": "python",
   "name": "python3"
  },
  "language_info": {
   "codemirror_mode": {
    "name": "ipython",
    "version": 3
   },
   "file_extension": ".py",
   "mimetype": "text/x-python",
   "name": "python",
   "nbconvert_exporter": "python",
   "pygments_lexer": "ipython3",
   "version": "3.12.7"
  }
 },
 "nbformat": 4,
 "nbformat_minor": 5
}
